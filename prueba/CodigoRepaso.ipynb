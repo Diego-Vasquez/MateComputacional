{
 "cells": [
  {
   "cell_type": "markdown",
   "metadata": {},
   "source": [
    "# Trasformación Lineal"
   ]
  },
  {
   "cell_type": "markdown",
   "metadata": {},
   "source": [
    "'''\n",
    "        \n",
    "        Trasnformacion lineal\n",
    "   \n",
    "        T(v1, v2) = T(v1)+T(v2) adivitva\n",
    "   \n",
    "        T(lamda*u) = lamda*T(u) , lamda pertence |R , o al cuerpo\n",
    "'''"
   ]
  },
  {
   "cell_type": "markdown",
   "metadata": {},
   "source": [
    "\"\"\"\n",
    "\n",
    "Invarianza Afin \n",
    "\n",
    "Denotado de la forma T(P) = MP + Q\n",
    "\n",
    "siendo P(t) = $\\alpha _{0}(t)P_{0}+ \\alpha _ {1}(t) P_1$\n",
    "\n",
    "debe cumplirse que T(P(t)) = $\\alpha _0 (t) T(P_0)+ \\alpha _ {1}(t)T(P_1)$\n",
    "\n",
    "\"\"\""
   ]
  },
  {
   "cell_type": "markdown",
   "metadata": {},
   "source": [
    "# Librerias"
   ]
  },
  {
   "cell_type": "code",
   "execution_count": null,
   "metadata": {},
   "outputs": [],
   "source": [
    "import numpy as np\n",
    "import math\n",
    "from sympy import Symbol, simplify\n",
    "from sympy import Symbol, simplify,  binomial, Derivative, Matrix #para el calculo de variables simbolica, entre otros calculos"
   ]
  },
  {
   "cell_type": "markdown",
   "metadata": {},
   "source": [
    "# Rotación"
   ]
  },
  {
   "cell_type": "code",
   "execution_count": null,
   "metadata": {},
   "outputs": [],
   "source": [
    "def rotacion(angle, A=None, dim=2, eje='x', convert_to_rad = True ,inv=False):\n",
    "    if convert_to_rad:\n",
    "        angle = (np.pi*angle/180)\n",
    "    if dim == 2:\n",
    "        Mr = np.array([[np.cos(angle), -np.sin(angle)],\n",
    "                    [np.sin(angle), np.cos(angle)]])\n",
    "    elif dim == 3:\n",
    "        if eje=='x':\n",
    "            Mr = np.array([[1,        0 ,                  0],\n",
    "                           [0, np.cos(angle), -np.sin(angle)],\n",
    "                           [0, np.sin(angle), np.cos(angle)]])\n",
    "        elif eje == 'y':\n",
    "            Mr = np.array([[np.cos(angle), 0 , -np.sin(angle)],\n",
    "                           [0,             1,               0],\n",
    "                           [-np.sin(angle), 0, np.cos(angle)]])\n",
    "        elif eje == 'z':\n",
    "            Mr = np.array([[np.cos(angle), -np.sin(angle), 0],\n",
    "                           [np.sin(angle), np.cos(angle),  0],\n",
    "                           [0,                    0,       1]])\n",
    "        elif eje=='origen':\n",
    "            Mr = np.array([[np.cos(angle), np.sin(angle), 0],\n",
    "                           [-np.sin(angle), np.cos(angle),  0],\n",
    "                           [0,                    0,       1]])\n",
    "    elif dim == 4:\n",
    "        if eje=='x':\n",
    "            Mr = np.array([[1,        0 ,           0,       0],\n",
    "                           [0, np.cos(angle), -np.sin(angle),0],\n",
    "                           [0, np.sin(angle), np.cos(angle), 0],\n",
    "                           [0,        0,            0,       1]])\n",
    "        elif eje == 'y':\n",
    "            Mr = np.array([[np.cos(angle), 0 , -np.sin(angle), 0],\n",
    "                           [0,             1,               0, 0],\n",
    "                           [-np.sin(angle),0, np.cos(angle),   0],\n",
    "                           [0,             0,         0,       1]])\n",
    "        elif eje == 'z':\n",
    "            Mr = np.array([[np.cos(angle), -np.sin(angle), 0, 0],\n",
    "                           [np.sin(angle), np.cos(angle),  0, 0],\n",
    "                           [0,                    0,       1, 0],\n",
    "                           [0,                    0,       0, 1]])\n",
    "        elif eje=='origen':\n",
    "            Mr = np.array([[np.cos(angle), np.sin(angle),  0,   0],\n",
    "                           [-np.sin(angle), np.cos(angle), 0,   0],\n",
    "                           [0,                    0,       1,   0],\n",
    "                           [0,                    0,       0,   1]])\n",
    "    if inv:\n",
    "        Mr = np.linalg.inv(Mr)\n",
    "    if A is None:\n",
    "        return Mr\n",
    "    return Mr@A"
   ]
  },
  {
   "cell_type": "markdown",
   "metadata": {},
   "source": [
    "# Reflexion"
   ]
  },
  {
   "cell_type": "code",
   "execution_count": null,
   "metadata": {},
   "outputs": [],
   "source": [
    "def reflexion(V=None, dim=3, eje='x', tipo=int):\n",
    "    if dim == 3:\n",
    "        valor_diagonal = [1, -1, 1] if eje == 'x' else [-1, 1, 1] #[1, 1, -1]\n",
    "    \n",
    "    elif dim == 2:\n",
    "        valor_diagonal = [1, -1] if eje == 'x' else [-1, 1]\n",
    "\n",
    "    elif dim == 4:\n",
    "        if eje=='xy':\n",
    "            valor_diagonal = [1, 1, -1, 1]\n",
    "        elif eje=='yz':\n",
    "            valor_diagonal = [-1, 1, 1, 1]\n",
    "        elif eje=='xz':\n",
    "            valor_diagonal = [1, -1, 1, 1]\n",
    "\n",
    "    matriz = np.zeros((dim, dim), tipo)\n",
    "    np.fill_diagonal(matriz, valor_diagonal)\n",
    "    if V is None:\n",
    "        return matriz \n",
    "    return matriz@V"
   ]
  },
  {
   "cell_type": "markdown",
   "metadata": {},
   "source": [
    "# Escala"
   ]
  },
  {
   "cell_type": "code",
   "execution_count": null,
   "metadata": {},
   "outputs": [],
   "source": [
    "def matriz_Escala(dim=2, valor_diagonal=[1], V=None, tipo=int):\n",
    "    matriz = np.zeros((dim, dim), tipo)\n",
    "    np.fill_diagonal(matriz, valor_diagonal)\n",
    "    if V is None:\n",
    "        return matriz\n",
    "    return matriz@V"
   ]
  },
  {
   "cell_type": "markdown",
   "metadata": {},
   "source": [
    "# Matriz de Corte"
   ]
  },
  {
   "cell_type": "code",
   "execution_count": null,
   "metadata": {},
   "outputs": [],
   "source": [
    "def corte_matix(V=None,  m=2, dim=2, tipo='x'):\n",
    "    if dim==2:# [1, m] -> izq , [m, 1]-> der\n",
    "        Mc = np.array([[1, m], [0, 1]]) if tipo=='x' else np.array([[1, 0], [m, 1]])    \n",
    "    elif dim==3:\n",
    "        if tipo=='x':\n",
    "            Mc = np.array([[1, m, 0], [0, 1, 0], [0, 0, 1]])\n",
    "        elif tipo=='y':\n",
    "            Mc = np.array([[1, 0, 0], [m, 1, 0], [0, 0, 1]])\n",
    "    if V is None:\n",
    "        return Mc\n",
    "    return np.dot(Mc,V)"
   ]
  },
  {
   "cell_type": "markdown",
   "metadata": {},
   "source": [
    "# Trasformación AFIN"
   ]
  },
  {
   "cell_type": "markdown",
   "metadata": {},
   "source": [
    "se deben usar coordenadas homogeneas a los vectores se els agrega 1\n",
    "\n",
    "trasformacion lineal asociada $(M^{-1})^T$"
   ]
  },
  {
   "cell_type": "markdown",
   "metadata": {},
   "source": [
    "# Traslación"
   ]
  },
  {
   "cell_type": "code",
   "execution_count": null,
   "metadata": {},
   "outputs": [],
   "source": [
    "def traslación(d1, d2, d3=None, d4=None, V=None, inv=False):\n",
    "    if d3 is None and d4 is None:\n",
    "        T = np.array([[1, 0, d1], [0, 1, d2], [0, 0, 1]])\n",
    "    elif d4 is None:\n",
    "        T = np.array([[1, 0, 0, d1], [0, 1, 0, d2], [0, 0, 1, d3], [0, 0, 0, 1]])\n",
    "    else:\n",
    "        T = np.array([[1, 0, 0, 0, d1], \n",
    "                      [0, 1, 0, 0, d2], \n",
    "                      [0, 0, 1, 0, d3], \n",
    "                      [0, 0, 0, 1, d4]])\n",
    "    if inv:\n",
    "        T = np.linalg.inv(T)\n",
    "    if V is None:\n",
    "        return T\n",
    "    return T@V"
   ]
  },
  {
   "cell_type": "markdown",
   "metadata": {},
   "source": [
    "# Pasando desde 3D  a 2D perspectiva"
   ]
  },
  {
   "cell_type": "code",
   "execution_count": null,
   "metadata": {},
   "outputs": [],
   "source": [
    "#Aplicando transformación de perspectiva  recoradmos que la formula es T(x,y,z) = (x,y,0)*e/(e-z) siendo de datos E (0, 0, 20) e = 20\n",
    "#Entonces tenemos que entonces para T (2,-1,7) tendremos (2, -1, 0)*20/(20-7) y para T(3,6,-4) = (3, 6, 0)*20/(20+4)\n",
    "vector_1= np.array([2, -1, 0])\n",
    "vector_2= np.array([3, 6, 0])\n",
    "# los nuevos vectores seran\n",
    "print(f\"\"\"Los nuevos vertices del segmento proyectado  \n",
    "{vector_1*20/13},\n",
    "{vector_2*20/24}\"\"\")"
   ]
  },
  {
   "cell_type": "markdown",
   "metadata": {},
   "source": [
    "# Creando una base ortonormal"
   ]
  },
  {
   "cell_type": "code",
   "execution_count": null,
   "metadata": {},
   "outputs": [],
   "source": [
    "pc = np.array([[20], [10], [5]])# coordenadas de camara centro\n",
    "ps = np.array([[1], [2], [2]])# coordenada global\n",
    "v = np.array([[0], [1], [1]]) #vector ascendente\n",
    "n = pc-ps\n",
    "\n",
    "print(f\"el vector n = \\n {n}\")\n",
    "\n",
    "#calculammos los vectores para formar la base que es el vector n entre su norma\n",
    "w =  n/np.linalg.norm(n)\n",
    "#print las bases {w, u, c}\n",
    "\n",
    "print(f\"w  = \\n {w}\")\n",
    "\n",
    "cross = np.cross(v.T, w.T).T\n",
    "u = cross/np.linalg.norm(cross)\n",
    "print(f\"u = \\n {u}\")\n",
    "\n",
    "v_c = np.cross(w.T, u.T).T\n",
    "\n",
    "print(f\"u = \\n {v_c}\")\n",
    "\n",
    "#formamos la matriz para calcular matriz de cambio de coordenada \n",
    "M = np.array([[float(u[0]), float(v_c[0]), float(w[0])],\n",
    "              [float(u[1]), float(v_c[1]), float(w[1])],\n",
    "              [float(u[2]), float(v_c[2]), float(w[2])]]).T\n",
    "print(\"la Matriz\")\n",
    "print(M)\n",
    "\n",
    "#calculamos el producto punto entre -uc*t, vc*t, wc*t para usarlo en la matriz cambio de coordenana\n",
    "uct = -np.dot(u.T, pc) \n",
    "wct = -np.dot(w.T, pc)\n",
    "vct  = -np.dot(v_c.T, pc)\n",
    "\n",
    "Mw_c = np.array([[float(u[0]), float(u[1]), float(u[2]), float(uct)],\n",
    "              [float(v_c[0]), float(v_c[1]), float(v_c[2]), float(wct)],\n",
    "              [float(w[0]), float(w[1]), float(w[2]), float(vct)],\n",
    "              [     0,           0,            0,                1]])\n",
    "\n",
    "print(f\"la matriz de coordenada es:\\n {Mw_c}\")\n"
   ]
  },
  {
   "cell_type": "markdown",
   "metadata": {},
   "source": [
    "# Rotación Arbitraria"
   ]
  },
  {
   "cell_type": "code",
   "execution_count": null,
   "metadata": {},
   "outputs": [],
   "source": [
    "#definimos el vector normal v = (-1, 5, 2).T\n",
    "v=np.array([-1, 5, 2]).T\n",
    "#primero normalizamos este vector por ende sacamos norma\n",
    "norma = np.linalg.norm(v)\n",
    "vector_normalizado = v/norma#\n",
    "print(f\"\"\"la normal: {v}\"\"\")\n",
    "print(f\"\"\"el vector normalizado: {vector_normalizado}\"\"\")\n",
    "#ahpora nos enfocaremose  pasar la normal n al eje z\n",
    "#para ello sacamos \n",
    "g=math.sqrt(pow(vector_normalizado[1],2)+pow(vector_normalizado[2],2))\n",
    "#ahora vamos a trasnformar la normal n hacia el eje z usando la composición de matrices\n",
    "m1 = np.array([[g,0,-vector_normalizado[0]],[0,1,0],[vector_normalizado[0],0,g]]) #matriz respecto a x\n",
    "m2 = np.array([[1,0,0],[0,vector_normalizado[2]/g,-vector_normalizado[1]/g],[0,vector_normalizado[1]/g,vector_normalizado[2]/g]]) \n",
    "#matriz respecto y\n",
    "M= m1 @ m2\n",
    "# m1^{-1}@(m2)^{-1}@Mrxy@m2@m1\n",
    "# dependiendo de lo que vamos hacer usaremos reflexion, rotacion, etc\n",
    "\"\"\"#como vamos a rotar tendremos que sacar su matriz inversa\n",
    "M_inv= np.linalg.inv(M)\n",
    "\n",
    "#En tonces la matriz ser a de La forma : M_inv * M_z * M\n",
    "M_ref=M_inv @ np.array([[1,0,0],[0,1,0],[0,0,-1]]) @ M\n",
    "#ya obteniada la matriz reflejamos el nuevo punto (6, −1,3)\n",
    "P = np.array([[6], [-1], [3]])\n",
    "print(\"El punto reflejado en el plano es\")\n",
    "print(M_ref @ P)\"\"\""
   ]
  },
  {
   "cell_type": "markdown",
   "metadata": {},
   "source": [
    "# Angulos de rotación"
   ]
  },
  {
   "cell_type": "markdown",
   "metadata": {},
   "source": [
    "\"\"\"theta = np.arctan(r32/r33)\n",
    "\n",
    "alpha = np.arcsin(r31)\n",
    "\n",
    "beta = np.arctan(r21/r11)\n",
    "\"\"\""
   ]
  },
  {
   "cell_type": "markdown",
   "metadata": {},
   "source": [
    "# codigo"
   ]
  },
  {
   "cell_type": "code",
   "execution_count": null,
   "metadata": {},
   "outputs": [],
   "source": [
    "#theta = np.arctan(r32/r33)\n",
    "#alpha = np.arcsin(r31)\n",
    "#beta = np.arctan(r21/r11)\n"
   ]
  },
  {
   "cell_type": "markdown",
   "metadata": {},
   "source": [
    "# Quaterniones"
   ]
  },
  {
   "cell_type": "markdown",
   "metadata": {},
   "source": [
    "$q_1 +q_2 = (a_1 + a_2) + (b_1 + b_2)i + (c_1 + c_2)j + (d_1 + d_2)k$\n",
    "\n",
    "$ sq_1 = sa_1 + sb_1 i + sc_1 j + sd_1 k $  \n",
    "\n",
    "$q1*q_2 = (a_1*a_2-b_1*b_2-c_1*a_2-d_1*d_2)  +$ \n",
    "$(a_1*b_2 + b_1*a_2 + c_1*d_2 - c_2*d_1)i+$\n",
    "\n",
    "$(a_1*a_2+ a_2*c_2 + d_1*b_2-d_1*d_2)j+$\n",
    "\n",
    "$(d_1*d_2 + d_1*a_2+ a_1*c_2 - b_2*c_1)k\n",
    "$\n",
    "\n",
    "q = (a, (w)) siendo a-> escalar, y w-> vectorial\n",
    "\n",
    "podemos expresar \n",
    "\n",
    "$q_1 q_2 =  (a_1*a_2- w_1*w_2), (a_1*w_2 + a_2*w_1 + w_1xw_2)$\n",
    "\n",
    "$q_1 q_2 \\neq q_2 q_1 $"
   ]
  },
  {
   "cell_type": "markdown",
   "metadata": {},
   "source": [
    "conjugacion de quaternion\n",
    "\n",
    "q = (a, w)   q^ = (a, -w)\n",
    "\n",
    "q*q^ = $(a^2 + b^2 + c^2 + d^2)$\n",
    "\n",
    "cuaternion unitario |q^| = 1\n",
    "\n",
    "q^(^{-1}) = q^^{*}/|q^|2"
   ]
  },
  {
   "cell_type": "code",
   "execution_count": null,
   "metadata": {},
   "outputs": [],
   "source": []
  },
  {
   "cell_type": "markdown",
   "metadata": {},
   "source": [
    "# Libreria a usar"
   ]
  },
  {
   "cell_type": "code",
   "execution_count": null,
   "metadata": {},
   "outputs": [],
   "source": [
    "# q =   (cos (anlge), u sin(angle)) angle = angulo de rotacion, u = eje de rotacion\n",
    "#v = (0,  w) vector\n",
    "#el vector rotado es T(v) = q v np.conjugado(q)"
   ]
  },
  {
   "cell_type": "markdown",
   "metadata": {},
   "source": [
    "# Codigo "
   ]
  },
  {
   "cell_type": "code",
   "execution_count": null,
   "metadata": {},
   "outputs": [],
   "source": [
    "import sympy \n",
    "#a)\n",
    "#tomamos el quaternion de la forma v = (0, (v')) siendo v' = (1, -1, 2)\n",
    "v = [0, 1, -1, 2]\n",
    "#ahora debemos calcular el vector unitario siendo de dato que yz hacemos 0 en x y en el plano yz esta inclinado pi /3 seria  u = ([0, np.cos(np.pi/3), npsin(np.pi/3)\n",
    "u = [0, np.cos(np.pi/3), np.sin(np.pi/3)]\n",
    "#de la pregunta tenemos que va rotar pi/3 y si recordamos en la formula de cuaterniones este seria 2\\theta por tanto usaremos la mitad que es pi/6\n",
    "q = [np.cos(np.pi/6), np.sin(np.pi/6)*u[0], np.sin(np.pi/6)*u[1], np.sin(np.pi/6)*u[2]]\n",
    "\n",
    "#el vector rotado esta dado por la forma qvq^{-1} para ello por comodidad usare la libreria sympy que tiene ya para realizar calculo con cuaterniones\n",
    "q = sympy.Quaternion(q[0], q[1], q[2], q[3])\n",
    "v = sympy.Quaternion(v[0], v[1], v[2], v[3])\n",
    "\n",
    "#el vector rotado seria\n",
    "R_1 = q*v/q\n",
    "R_1"
   ]
  },
  {
   "cell_type": "code",
   "execution_count": null,
   "metadata": {},
   "outputs": [],
   "source": [
    "import numpy as np\n",
    "import quaternionic\n",
    "\n",
    "# datos 2theta usar la mitad\n",
    "# q = []\n",
    "θ = np.pi/6\n",
    "q1 = quaternionic.array([np.sqrt(3)/2, 0, 1/4, np.sqrt(3)/4])\n",
    "v1 = quaternionic.array([0, 1, -1, 2])\n",
    "q3 = quaternionic.array([np.sqrt(3)/2, -1/(2*np.sqrt(6)), -1/(2*np.sqrt(6)), -1/np.sqrt(6)])\n",
    "T1 = q1*v1*np.conjugate(q1)\n",
    "#truesol = np.array([(10+4*np.sqrt(3))/8, (1+2*np.sqrt(3))/8, (14-3*np.sqrt(3))/8 ])\n",
    "v =np.array([1,-1,2])\n",
    "print(f\" 2a) Las coordenadas del vector luego de la rotación es: \",T1, \"\\n\")\n",
    "#print(truesol)\n",
    "print(f\"La norma del vertor antes de rotar: \",np.linalg.norm(v), \"\\n\" )\n",
    "print(f\"La norma del vertor despues de rotar: \",np.linalg.norm(T1), \"\\n\" )"
   ]
  },
  {
   "cell_type": "code",
   "execution_count": null,
   "metadata": {},
   "outputs": [],
   "source": [
    "#Parte b) T2T1 = q2q1 v1 q1^-1 q2^-1\n",
    "q2 = quaternionic.array([np.sqrt(3)/2, 1/4, 0 , np.sqrt(3)/4])\n",
    "T2T1 = q2*q1*v1*np.conjugate(q1)*np.conjugate(q2)\n",
    "print(f\" 2b) Las coordenadas de la composicion es: \",T2T1, \"\\n\")\n",
    "print(f\"La norma del vertor antes de rotar: \",np.linalg.norm(v), \"\\n\" )\n",
    "print(f\"La norma del vertor despues de rotar: \",np.linalg.norm(T2T1), \"\\n\" )"
   ]
  },
  {
   "cell_type": "markdown",
   "metadata": {},
   "source": [
    "# Interpolacion de esferica Procedimiento Slerp"
   ]
  },
  {
   "cell_type": "code",
   "execution_count": null,
   "metadata": {},
   "outputs": [],
   "source": [
    "from sympy import Quaternion\n",
    "angle = np.pi/6\n",
    "t = 0.3\n",
    "\n",
    "v1 = [-1, 3, 5, 6]\n",
    "v2 = [4, -5, 2, 6]\n",
    "\n",
    "q1 = Quaternion(-1, 3, 5, 6)\n",
    "q2 = Quaternion(4, -5, 2, 6)\n",
    "\n",
    "d = np.dot(np.array(v1), np.array(v2))\n",
    "if d<0:\n",
    "    q = (np.sin(1-t)*angle/np.sin(angle))*q1 + np.sin(t*angle)/np.sin(angle)*(-1*q2)\n",
    "else:\n",
    "    q = (np.sin(1-t)*angle/np.sin(angle))*q1 + np.sin(t*angle)/np.sin(angle)*(q2)\n",
    "#la interpolacion lineal esferica es\n",
    "print(q)"
   ]
  },
  {
   "cell_type": "markdown",
   "metadata": {},
   "source": [
    "# Pendiente de Tangente a una curva"
   ]
  },
  {
   "cell_type": "code",
   "execution_count": null,
   "metadata": {},
   "outputs": [],
   "source": [
    "t = Symbol('t')\n",
    "x = 2*t+1\n",
    "y = t**3\n",
    "def pendiente(x, y, t):#pediente de la curva\n",
    "    return simplify(Derivative(y, t)/Derivative(x,t))\n",
    "\n",
    "def vector_tangete(*args):\n",
    "    vec_tan = 0\n",
    "    for arg in args:\n",
    "        vec_tan +=simplify(Derivative(arg))\n",
    "    return vec_tan\n"
   ]
  },
  {
   "cell_type": "code",
   "execution_count": null,
   "metadata": {},
   "outputs": [],
   "source": [
    "# calculamos el vector tangente derivando x e y respecto a t\n",
    "# r = -asin(t)i + acos(t)j\n",
    "#r'/np.norm(r', 2) = sin(t)i + cos(t) j"
   ]
  },
  {
   "cell_type": "markdown",
   "metadata": {},
   "source": [
    "# Interpolación de Lagrange"
   ]
  },
  {
   "cell_type": "markdown",
   "metadata": {},
   "source": [
    "Dados n+1 puntos $P_0$, ..., $p_n$ definamos el n+1 funciones de combinación $\\alpha _0$, ... $\\alpha _n$\n",
    "\n",
    "$\\alpha_i$ = $\\prod_{k=0, k\\neq i}\\frac{(t-k)}{(i-k)}$\n",
    "\n",
    "entonces la curva parametrizada sera:\n",
    "\n",
    "P(t) = $\\sum_{i=0}^{n}\\alpha _{i}(t)P_i$\n",
    "\n",
    "interpola n+1 puntos\n",
    "    "
   ]
  },
  {
   "cell_type": "markdown",
   "metadata": {},
   "source": [
    "# Código Lagrange"
   ]
  },
  {
   "cell_type": "code",
   "execution_count": null,
   "metadata": {},
   "outputs": [],
   "source": [
    "def alpha(i, n_puntos):\n",
    "   t = Symbol('t')\n",
    "   alpha = 1\n",
    "   for k in range(n_puntos):\n",
    "       if i!=k:\n",
    "           alpha *= (t-k)/(i-k)\n",
    "   return simplify(alpha)\n",
    "\n",
    "def Lagrange(*Puntos):\n",
    "    sum = 0\n",
    "    for i in range(len(Puntos)):\n",
    "        sum+=np.dot(alpha(i, len(Puntos)),Puntos[i])\n",
    "    return simplify(sum)"
   ]
  },
  {
   "cell_type": "markdown",
   "metadata": {},
   "source": [
    "# Curvas de Bezier"
   ]
  },
  {
   "cell_type": "markdown",
   "metadata": {},
   "source": [
    "el polinomio de bezier $B_(i, n)(t)$ = $\\binom{m}{i} (1-t)^{n-i}t^i$"
   ]
  },
  {
   "cell_type": "markdown",
   "metadata": {},
   "source": [
    "# Codigo cateljua"
   ]
  },
  {
   "cell_type": "code",
   "execution_count": null,
   "metadata": {},
   "outputs": [],
   "source": [
    "\n",
    "def cateluljau(P0, P1, t):\n",
    "    return (1-t)*P0+t*P1\n",
    "def Bezier(*punto,  **kwargs):\n",
    "     if kwargs['symbol']:\n",
    "        t = Symbol('t')\n",
    "     else:\n",
    "        t = kwargs['t']\n",
    "    \n",
    "     P0 = cateluljau(punto[0], punto[1], t)\n",
    "     P1 = cateluljau(punto[1], punto[2], t)\n",
    "\n",
    "     P = cateluljau(P0, P1, t)\n",
    "     return Matrix(P)\n",
    "\n",
    "\n",
    "P0 = np.array([[-1], [1]])\n",
    "P1 = np.array([[1], [1]])\n",
    "P2 = np.array([[1], [0]])\n",
    "\n",
    "b = Bezier(P0, P1, P2, symbol=True)\n",
    "b"
   ]
  },
  {
   "cell_type": "markdown",
   "metadata": {},
   "source": [
    "# Código de Bezier"
   ]
  },
  {
   "cell_type": "code",
   "execution_count": null,
   "metadata": {},
   "outputs": [],
   "source": [
    "#usando el polinomio de Berstein\n",
    "def B(i, n, t = Symbol('t')):\n",
    "    return binomial(n, i)*((1-t)**(n-i))*(t**(i))\n",
    "\n",
    "def Bezier(*punto, **kwargs):\n",
    "    if kwargs['symbol']:\n",
    "        t = Symbol('t')\n",
    "    else:\n",
    "        t = kwargs['t']\n",
    "    n = len(punto)\n",
    "    sum = 0\n",
    "    for i in range(n):\n",
    "        sum+=np.dot(B(i, n-1, t=t), punto[i])\n",
    "    return Matrix(sum)\n",
    "\n",
    "P0 = np.array([[-1], [1]])\n",
    "P1 = np.array([[1], [1]])\n",
    "P2 = np.array([[1], [0]])\n",
    "\n",
    "b = Bezier(P0, P1, P2, symbol=True)"
   ]
  },
  {
   "cell_type": "markdown",
   "metadata": {},
   "source": [
    "# Superficie"
   ]
  },
  {
   "cell_type": "markdown",
   "metadata": {},
   "source": [
    "$S_s = derivada S(s, t) respecot de s$\n",
    "\n",
    "$S_t = derivada S(s, t) respecot de t$ \n",
    "\n",
    "Normal = $\\frac{S_s (s, t) x S_t (s, t)}{norma ( S_s (s, t) x S_t(s,t))}$"
   ]
  },
  {
   "cell_type": "markdown",
   "metadata": {},
   "source": [
    "# Codigo"
   ]
  },
  {
   "cell_type": "code",
   "execution_count": null,
   "metadata": {},
   "outputs": [],
   "source": [
    "t = Symbol('t')\n",
    "s = Symbol('s')\n",
    "\n",
    "Superficie = Matrix([s+t, 3*s**2, s-t])\n",
    "\n",
    "S_s = simplify(Derivative(Superficie, s))        \n",
    "S_t = simplify(Derivative(Superficie, t))\n",
    "\n",
    "print(S_s, S_t)\n",
    "S_s_cross_S_t = S_s.cross(S_t)\n",
    "Norma = S_s_cross_S_t.norm()\n",
    "Normal_superficie = S_s_cross_S_t/Norma\n",
    "print(simplify(Normal_superficie).subs(s, 1))"
   ]
  }
 ],
 "metadata": {
  "interpreter": {
   "hash": "31f2aee4e71d21fbe5cf8b01ff0e069b9275f58929596ceb00d14d90e3e16cd6"
  },
  "kernelspec": {
   "display_name": "Python 3.8.10 64-bit",
   "language": "python",
   "name": "python3"
  },
  "language_info": {
   "name": "python",
   "version": "3.8.10"
  },
  "orig_nbformat": 4
 },
 "nbformat": 4,
 "nbformat_minor": 2
}
