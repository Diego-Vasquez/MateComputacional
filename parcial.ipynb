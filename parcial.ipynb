{
 "cells": [
  {
   "cell_type": "markdown",
   "metadata": {},
   "source": [
    "# Pregunta 2"
   ]
  },
  {
   "cell_type": "markdown",
   "metadata": {},
   "source": [
    "## Para Lagrange"
   ]
  },
  {
   "cell_type": "code",
   "execution_count": 35,
   "metadata": {},
   "outputs": [],
   "source": [
    "import sympy as sy\n",
    "from sympy import Symbol, Rational, binomial, expand_func"
   ]
  },
  {
   "cell_type": "code",
   "execution_count": 23,
   "metadata": {},
   "outputs": [],
   "source": [
    "#Ingresamos los puntos y obtenemos el n\n",
    "P = sy.Matrix([[-2, 4],\n",
    "               [1, 3],\n",
    "               [2, -1]])\n",
    "\n",
    "n = P.shape[1] - 1\n",
    "t = sy.Symbol('t')"
   ]
  },
  {
   "cell_type": "code",
   "execution_count": 24,
   "metadata": {},
   "outputs": [],
   "source": [
    "#Definimos lo que sería la fórmula del polinomio interpolador de lagrange como una función\n",
    "def polinomioInterpolador(n, i):\n",
    "    temp=1\n",
    "    for k in range(n+1):\n",
    "        if k != i:\n",
    "            temp = temp*(t-k)/(i-k)\n",
    "    return sy.simplify(temp)"
   ]
  },
  {
   "cell_type": "code",
   "execution_count": 20,
   "metadata": {},
   "outputs": [
    {
     "data": {
      "text/latex": [
       "$\\displaystyle \\left[\\begin{matrix}\\frac{\\left(t - 2\\right) \\left(t - 1\\right)}{2}\\\\t \\left(2 - t\\right)\\\\\\frac{t \\left(t - 1\\right)}{2}\\end{matrix}\\right]$"
      ],
      "text/plain": [
       "Matrix([\n",
       "[(t - 2)*(t - 1)/2],\n",
       "[        t*(2 - t)],\n",
       "[      t*(t - 1)/2]])"
      ]
     },
     "execution_count": 20,
     "metadata": {},
     "output_type": "execute_result"
    }
   ],
   "source": [
    "#Formamos los polinomios interpoladores en un arreglo\n",
    "polinomios = sy.Matrix([polinomioInterpolador(n, i) for i in range(n+1)])\n",
    "polinomios"
   ]
  },
  {
   "cell_type": "code",
   "execution_count": 22,
   "metadata": {},
   "outputs": [
    {
     "data": {
      "text/latex": [
       "$\\displaystyle \\left[\\begin{matrix}\\frac{t^{2}}{2} - \\frac{3 t}{2} + 1\\\\- t^{2} + 2 t\\\\\\frac{t^{2}}{2} - \\frac{t}{2}\\end{matrix}\\right]$"
      ],
      "text/plain": [
       "Matrix([\n",
       "[t**2/2 - 3*t/2 + 1],\n",
       "[       -t**2 + 2*t],\n",
       "[      t**2/2 - t/2]])"
      ]
     },
     "execution_count": 22,
     "metadata": {},
     "output_type": "execute_result"
    }
   ],
   "source": [
    "#De aca podemos obtener lo que sería los coeficientes para la representación matricial\n",
    "sy.expand(polinomios)"
   ]
  },
  {
   "cell_type": "code",
   "execution_count": 36,
   "metadata": {},
   "outputs": [
    {
     "data": {
      "text/latex": [
       "$\\displaystyle \\left[\\begin{matrix}t \\left(2 - t\\right) + t \\left(t - 1\\right) - \\left(t - 2\\right) \\left(t - 1\\right)\\\\3 t \\left(2 - t\\right) - \\frac{t \\left(t - 1\\right)}{2} + 2 \\left(t - 2\\right) \\left(t - 1\\right)\\end{matrix}\\right]$"
      ],
      "text/plain": [
       "Matrix([\n",
       "[      t*(2 - t) + t*(t - 1) - (t - 2)*(t - 1)],\n",
       "[3*t*(2 - t) - t*(t - 1)/2 + 2*(t - 2)*(t - 1)]])"
      ]
     },
     "execution_count": 36,
     "metadata": {},
     "output_type": "execute_result"
    }
   ],
   "source": [
    "#Finalmente obtenemos el polinomio interpolador\n",
    "Lx = P[:,0].T @ polinomios\n",
    "Ly = P[:,1].T @ polinomios\n",
    "L = sy.Matrix([Bx, By])\n",
    "L"
   ]
  },
  {
   "cell_type": "code",
   "execution_count": null,
   "metadata": {},
   "outputs": [],
   "source": [
    "# Forma matricial\n",
    "# [P0, P1, P2] [[1, -3/2, 1/2],   [1,         \n",
    "#               [0    2    -1],    t,    \n",
    "#               [0   -1/2  1/2]]   t^2]"
   ]
  },
  {
   "cell_type": "markdown",
   "metadata": {},
   "source": [
    "## Bezier"
   ]
  },
  {
   "cell_type": "code",
   "execution_count": 37,
   "metadata": {},
   "outputs": [],
   "source": [
    "# Igualmente declaramos los puntos \n",
    "P = sy.Matrix([[-2, 4],\n",
    "               [1, 3],\n",
    "               [2, -1]]).T"
   ]
  },
  {
   "cell_type": "code",
   "execution_count": 38,
   "metadata": {},
   "outputs": [],
   "source": [
    "#Definimos lo que corresponde a nuestro polinomio interpolador\n",
    "t = sy.Symbol('t')\n",
    "BernsteinPolynomial = lambda i, n: binomial(n, i)*((1-t)**(n-i))*(t**i)"
   ]
  },
  {
   "cell_type": "code",
   "execution_count": 40,
   "metadata": {},
   "outputs": [
    {
     "data": {
      "text/latex": [
       "$\\displaystyle \\left[\\begin{matrix}\\left(1 - t\\right)^{2}\\\\t \\left(2 - 2 t\\right)\\\\t^{2}\\end{matrix}\\right]$"
      ],
      "text/plain": [
       "Matrix([\n",
       "[ (1 - t)**2],\n",
       "[t*(2 - 2*t)],\n",
       "[       t**2]])"
      ]
     },
     "execution_count": 40,
     "metadata": {},
     "output_type": "execute_result"
    }
   ],
   "source": [
    "#Calculamos los polinomios\n",
    "n = P.shape[1] - 1\n",
    "interp = sy.Matrix([BernsteinPolynomial(i,n) for i in range(n+1)])\n",
    "interp"
   ]
  },
  {
   "cell_type": "code",
   "execution_count": 42,
   "metadata": {},
   "outputs": [
    {
     "data": {
      "text/latex": [
       "$\\displaystyle \\left[\\begin{matrix}t^{2} - 2 t + 1\\\\- 2 t^{2} + 2 t\\\\t^{2}\\end{matrix}\\right]$"
      ],
      "text/plain": [
       "Matrix([\n",
       "[t**2 - 2*t + 1],\n",
       "[ -2*t**2 + 2*t],\n",
       "[          t**2]])"
      ]
     },
     "execution_count": 42,
     "metadata": {},
     "output_type": "execute_result"
    }
   ],
   "source": [
    "#De aca podemos obtener lo que sería los coeficientes para la representación matricial\n",
    "sy.expand(interp)"
   ]
  },
  {
   "cell_type": "code",
   "execution_count": 41,
   "metadata": {},
   "outputs": [
    {
     "data": {
      "text/latex": [
       "$\\displaystyle \\left[\\begin{matrix}2 t^{2} + t \\left(2 - 2 t\\right) - 2 \\left(1 - t\\right)^{2}\\\\- t^{2} + 3 t \\left(2 - 2 t\\right) + 4 \\left(1 - t\\right)^{2}\\end{matrix}\\right]$"
      ],
      "text/plain": [
       "Matrix([\n",
       "[ 2*t**2 + t*(2 - 2*t) - 2*(1 - t)**2],\n",
       "[-t**2 + 3*t*(2 - 2*t) + 4*(1 - t)**2]])"
      ]
     },
     "execution_count": 41,
     "metadata": {},
     "output_type": "execute_result"
    }
   ],
   "source": [
    "#Aca expresamos lo que sería el polinomio de Bezier de la forma usual parametrica\n",
    "Bx = P[0,:] @ interp\n",
    "By = P[1,:] @ interp\n",
    "B = sy.Matrix([Bx, By])\n",
    "B"
   ]
  },
  {
   "cell_type": "code",
   "execution_count": null,
   "metadata": {},
   "outputs": [],
   "source": [
    "# Forma matricial\n",
    "# [P0, P1, P2] [[1,  -2,    1],   [1,         \n",
    "#               [0    2    -2],    t,    \n",
    "#               [0    0     1]]   t^2]"
   ]
  }
 ],
 "metadata": {
  "interpreter": {
   "hash": "4dff06287e7aab5ee5bcf9f9742397dafb4766b935d2bf471fb216ff7f84489d"
  },
  "kernelspec": {
   "display_name": "Python 3.8.10 ('venv': venv)",
   "language": "python",
   "name": "python3"
  },
  "language_info": {
   "codemirror_mode": {
    "name": "ipython",
    "version": 3
   },
   "file_extension": ".py",
   "mimetype": "text/x-python",
   "name": "python",
   "nbconvert_exporter": "python",
   "pygments_lexer": "ipython3",
   "version": "3.8.10"
  },
  "orig_nbformat": 4
 },
 "nbformat": 4,
 "nbformat_minor": 2
}
