{
 "cells": [
  {
   "cell_type": "markdown",
   "metadata": {},
   "source": [
    "# Pregunta 1"
   ]
  },
  {
   "cell_type": "code",
   "execution_count": 5,
   "metadata": {},
   "outputs": [],
   "source": [
    "import sympy as sy"
   ]
  },
  {
   "cell_type": "code",
   "execution_count": 7,
   "metadata": {},
   "outputs": [],
   "source": [
    "#el primer eje es \n",
    "v1 = sy.Matrix((2, 0, -2))\n",
    "v2 = sy.Matrix((-3, 1, 1))"
   ]
  },
  {
   "cell_type": "code",
   "execution_count": 8,
   "metadata": {},
   "outputs": [],
   "source": [
    "#calculamos las normas\n",
    "norm1 = sy.sqrt((v1.T @ v1)[0])\n",
    "norm2 = sy.sqrt((v2.T @ v2)[0])"
   ]
  },
  {
   "cell_type": "code",
   "execution_count": 9,
   "metadata": {},
   "outputs": [],
   "source": [
    "#normalizamos los vectores\n",
    "u1 = v1/norm1\n",
    "u2 = v2/norm2"
   ]
  },
  {
   "cell_type": "code",
   "execution_count": 10,
   "metadata": {},
   "outputs": [],
   "source": [
    "#Procedemos a definir los cuaterniones, teniendo en cuenta que usaremos un theta = pi/6 porque hara una rotacion de 2 theta\n",
    "q1 = sy.Quaternion(sy.cos(sy.pi/6), sy.sin(sy.pi/6)*u1[0], sy.sin(sy.pi/6)*u1[1], sy.sin(sy.pi/6)*u1[2])\n",
    "q2 = sy.Quaternion(sy.cos(sy.pi/6), sy.sin(sy.pi/6)*u2[0], sy.sin(sy.pi/6)*u2[1], sy.sin(sy.pi/6)*u2[2])\n"
   ]
  },
  {
   "cell_type": "code",
   "execution_count": 11,
   "metadata": {},
   "outputs": [
    {
     "data": {
      "text/latex": [
       "$\\displaystyle \\frac{\\sqrt{3}}{2} + \\frac{\\sqrt{2}}{4} i + 0 j + - \\frac{\\sqrt{2}}{4} k$"
      ],
      "text/plain": [
       "sqrt(3)/2 + sqrt(2)/4*i + 0*j + (-sqrt(2)/4)*k"
      ]
     },
     "execution_count": 11,
     "metadata": {},
     "output_type": "execute_result"
    }
   ],
   "source": [
    "#Tenemos el cuaternion de la primera rotacion\n",
    "q1"
   ]
  },
  {
   "cell_type": "code",
   "execution_count": 28,
   "metadata": {},
   "outputs": [
    {
     "data": {
      "text/latex": [
       "$\\displaystyle \\frac{\\sqrt{3}}{2} + - \\frac{3 \\sqrt{11}}{22} i + \\frac{\\sqrt{11}}{22} j + \\frac{\\sqrt{11}}{22} k$"
      ],
      "text/plain": [
       "sqrt(3)/2 + (-3*sqrt(11)/22)*i + sqrt(11)/22*j + sqrt(11)/22*k"
      ]
     },
     "execution_count": 28,
     "metadata": {},
     "output_type": "execute_result"
    }
   ],
   "source": [
    "#Tenemos el cuaternion de la segunda rotacion\n",
    "q2"
   ]
  },
  {
   "cell_type": "code",
   "execution_count": null,
   "metadata": {},
   "outputs": [],
   "source": [
    "#Ahora, queremos que primero se realice la primera rotación y luego la segunda rotación\n",
    "#es decir, obtenemos primero T1 (v) = q1 v q1^-1\n",
    "#y luego hacer la rotación T2 (u) = q2 u q2^-1\n",
    "\n",
    "#Entonces tendriamos la composicion T2 (T1(v)) = T2 o T1 (v)= q2 (q1 v q1^-1) q2^-1 = (q2 q1) v (q1^-1 q2^-1) = (q2 q1) v (q2 q1)^-1"
   ]
  },
  {
   "cell_type": "code",
   "execution_count": null,
   "metadata": {},
   "outputs": [],
   "source": [
    "#Entonces el cuaternion resultante de la composición es"
   ]
  },
  {
   "cell_type": "code",
   "execution_count": 29,
   "metadata": {},
   "outputs": [
    {
     "data": {
      "text/latex": [
       "$\\displaystyle \\left(\\frac{\\sqrt{22}}{22} + \\frac{3}{4}\\right) + \\left(- \\frac{3 \\sqrt{33}}{44} - \\frac{\\sqrt{22}}{88} + \\frac{\\sqrt{6}}{8}\\right) i + \\left(- \\frac{\\sqrt{22}}{44} + \\frac{\\sqrt{33}}{44}\\right) j + \\left(- \\frac{\\sqrt{6}}{8} - \\frac{\\sqrt{22}}{88} + \\frac{\\sqrt{33}}{44}\\right) k$"
      ],
      "text/plain": [
       "(sqrt(22)/22 + 3/4) + (-3*sqrt(33)/44 - sqrt(22)/88 + sqrt(6)/8)*i + (-sqrt(22)/44 + sqrt(33)/44)*j + (-sqrt(6)/8 - sqrt(22)/88 + sqrt(33)/44)*k"
      ]
     },
     "execution_count": 29,
     "metadata": {},
     "output_type": "execute_result"
    }
   ],
   "source": [
    "q2*q1"
   ]
  },
  {
   "cell_type": "markdown",
   "metadata": {},
   "source": [
    "# Pregunta 2"
   ]
  },
  {
   "cell_type": "markdown",
   "metadata": {},
   "source": [
    "## Para Lagrange"
   ]
  },
  {
   "cell_type": "code",
   "execution_count": 2,
   "metadata": {},
   "outputs": [],
   "source": [
    "import sympy as sy\n",
    "from sympy import Symbol, Rational, binomial, expand_func"
   ]
  },
  {
   "cell_type": "code",
   "execution_count": 14,
   "metadata": {},
   "outputs": [],
   "source": [
    "#Ingresamos los puntos y obtenemos el n\n",
    "P = sy.Matrix([[-2, 4],\n",
    "               [1, 3],\n",
    "               [2, -1]])\n",
    "\n",
    "n = P.shape[0] - 1\n",
    "t = sy.Symbol('t')"
   ]
  },
  {
   "cell_type": "code",
   "execution_count": 15,
   "metadata": {},
   "outputs": [],
   "source": [
    "#Definimos lo que sería la fórmula del polinomio interpolador de lagrange como una función\n",
    "def polinomioInterpolador(n, i):\n",
    "    temp=1\n",
    "    for k in range(n+1):\n",
    "        if k != i:\n",
    "            temp = temp*(t-k)/(i-k)\n",
    "    return sy.simplify(temp)"
   ]
  },
  {
   "cell_type": "code",
   "execution_count": 16,
   "metadata": {},
   "outputs": [
    {
     "data": {
      "text/latex": [
       "$\\displaystyle \\left[\\begin{matrix}\\frac{\\left(t - 2\\right) \\left(t - 1\\right)}{2}\\\\t \\left(2 - t\\right)\\\\\\frac{t \\left(t - 1\\right)}{2}\\end{matrix}\\right]$"
      ],
      "text/plain": [
       "Matrix([\n",
       "[(t - 2)*(t - 1)/2],\n",
       "[        t*(2 - t)],\n",
       "[      t*(t - 1)/2]])"
      ]
     },
     "execution_count": 16,
     "metadata": {},
     "output_type": "execute_result"
    }
   ],
   "source": [
    "#Formamos los polinomios interpoladores en un arreglo\n",
    "polinomios = sy.Matrix([polinomioInterpolador(n, i) for i in range(n+1)])\n",
    "polinomios"
   ]
  },
  {
   "cell_type": "code",
   "execution_count": 17,
   "metadata": {},
   "outputs": [
    {
     "data": {
      "text/latex": [
       "$\\displaystyle \\left[\\begin{matrix}\\frac{t^{2}}{2} - \\frac{3 t}{2} + 1\\\\- t^{2} + 2 t\\\\\\frac{t^{2}}{2} - \\frac{t}{2}\\end{matrix}\\right]$"
      ],
      "text/plain": [
       "Matrix([\n",
       "[t**2/2 - 3*t/2 + 1],\n",
       "[       -t**2 + 2*t],\n",
       "[      t**2/2 - t/2]])"
      ]
     },
     "execution_count": 17,
     "metadata": {},
     "output_type": "execute_result"
    }
   ],
   "source": [
    "#De aca podemos obtener lo que sería los coeficientes para la representación matricial\n",
    "sy.expand(polinomios)"
   ]
  },
  {
   "cell_type": "code",
   "execution_count": 19,
   "metadata": {},
   "outputs": [
    {
     "data": {
      "text/latex": [
       "$\\displaystyle \\left[\\begin{matrix}t \\left(2 - t\\right) + t \\left(t - 1\\right) - \\left(t - 2\\right) \\left(t - 1\\right)\\\\3 t \\left(2 - t\\right) - \\frac{t \\left(t - 1\\right)}{2} + 2 \\left(t - 2\\right) \\left(t - 1\\right)\\end{matrix}\\right]$"
      ],
      "text/plain": [
       "Matrix([\n",
       "[      t*(2 - t) + t*(t - 1) - (t - 2)*(t - 1)],\n",
       "[3*t*(2 - t) - t*(t - 1)/2 + 2*(t - 2)*(t - 1)]])"
      ]
     },
     "execution_count": 19,
     "metadata": {},
     "output_type": "execute_result"
    }
   ],
   "source": [
    "#Finalmente obtenemos el polinomio interpolador\n",
    "Lx = P[:,0].T @ polinomios\n",
    "Ly = P[:,1].T @ polinomios\n",
    "L = sy.Matrix([Lx, Ly])\n",
    "L"
   ]
  },
  {
   "cell_type": "code",
   "execution_count": null,
   "metadata": {},
   "outputs": [],
   "source": [
    "# Forma matricial\n",
    "# [P0, P1, P2] [[1, -3/2, 1/2],   [1,         \n",
    "#               [0    2    -1],    t,    \n",
    "#               [0   -1/2  1/2]]   t^2]"
   ]
  },
  {
   "cell_type": "markdown",
   "metadata": {},
   "source": [
    "## Bezier"
   ]
  },
  {
   "cell_type": "code",
   "execution_count": 3,
   "metadata": {},
   "outputs": [],
   "source": [
    "# Igualmente declaramos los puntos \n",
    "P = sy.Matrix([[-2, 4],\n",
    "               [1, 3],\n",
    "               [2, -1]]).T\n"
   ]
  },
  {
   "cell_type": "code",
   "execution_count": 22,
   "metadata": {},
   "outputs": [],
   "source": [
    "#Definimos lo que corresponde a nuestro polinomio interpolador\n",
    "t = sy.Symbol('t')\n",
    "BernsteinPolynomial = lambda i, n: binomial(n, i)*((1-t)**(n-i))*(t**i)\n"
   ]
  },
  {
   "cell_type": "code",
   "execution_count": 23,
   "metadata": {},
   "outputs": [
    {
     "data": {
      "text/latex": [
       "$\\displaystyle \\left[\\begin{matrix}\\left(1 - t\\right)^{2}\\\\t \\left(2 - 2 t\\right)\\\\t^{2}\\end{matrix}\\right]$"
      ],
      "text/plain": [
       "Matrix([\n",
       "[ (1 - t)**2],\n",
       "[t*(2 - 2*t)],\n",
       "[       t**2]])"
      ]
     },
     "execution_count": 23,
     "metadata": {},
     "output_type": "execute_result"
    }
   ],
   "source": [
    "#Calculamos los polinomios\n",
    "n = P.shape[1] - 1\n",
    "interp = sy.Matrix([BernsteinPolynomial(i,n) for i in range(n+1)])\n",
    "interp\n"
   ]
  },
  {
   "cell_type": "code",
   "execution_count": 24,
   "metadata": {},
   "outputs": [
    {
     "data": {
      "text/latex": [
       "$\\displaystyle \\left[\\begin{matrix}t^{2} - 2 t + 1\\\\- 2 t^{2} + 2 t\\\\t^{2}\\end{matrix}\\right]$"
      ],
      "text/plain": [
       "Matrix([\n",
       "[t**2 - 2*t + 1],\n",
       "[ -2*t**2 + 2*t],\n",
       "[          t**2]])"
      ]
     },
     "execution_count": 24,
     "metadata": {},
     "output_type": "execute_result"
    }
   ],
   "source": [
    "#De aca podemos obtener lo que sería los coeficientes para la representación matricial\n",
    "sy.expand(interp)\n"
   ]
  },
  {
   "cell_type": "code",
   "execution_count": 25,
   "metadata": {},
   "outputs": [
    {
     "data": {
      "text/latex": [
       "$\\displaystyle \\left[\\begin{matrix}2 t^{2} + t \\left(2 - 2 t\\right) - 2 \\left(1 - t\\right)^{2}\\\\- t^{2} + 3 t \\left(2 - 2 t\\right) + 4 \\left(1 - t\\right)^{2}\\end{matrix}\\right]$"
      ],
      "text/plain": [
       "Matrix([\n",
       "[ 2*t**2 + t*(2 - 2*t) - 2*(1 - t)**2],\n",
       "[-t**2 + 3*t*(2 - 2*t) + 4*(1 - t)**2]])"
      ]
     },
     "execution_count": 25,
     "metadata": {},
     "output_type": "execute_result"
    }
   ],
   "source": [
    "#Aca expresamos lo que sería el polinomio de Bezier de la forma usual parametrica\n",
    "Bx = P[0,:] @ interp\n",
    "By = P[1,:] @ interp\n",
    "B = sy.Matrix([Bx, By])\n",
    "B\n"
   ]
  },
  {
   "cell_type": "code",
   "execution_count": 26,
   "metadata": {},
   "outputs": [],
   "source": [
    "# Forma matricial\n",
    "# [P0, P1, P2] [[1,  -2,    1],   [1,         \n",
    "#               [0    2    -2],    t,    \n",
    "#               [0    0     1]]   t^2]"
   ]
  },
  {
   "cell_type": "markdown",
   "metadata": {},
   "source": [
    "# Pregunta 3"
   ]
  },
  {
   "cell_type": "code",
   "execution_count": 15,
   "metadata": {},
   "outputs": [
    {
     "name": "stdout",
     "output_type": "stream",
     "text": [
      "     con: array([0.])\n",
      "     fun: 2100.0\n",
      " message: 'Optimization terminated successfully.'\n",
      "     nit: 3\n",
      "   slack: array([0.2, 0. ])\n",
      "  status: 0\n",
      " success: True\n",
      "       x: array([5., 5.])\n"
     ]
    }
   ],
   "source": [
    "from scipy.optimize import linprog\n",
    "\n",
    "#Funcion objetivo\n",
    "obj= [200, 220]\n",
    "\n",
    "# las desigualdades\n",
    "lhs_ineq= [[-0.7,-0.64],    \n",
    "           [0.9,0.8]]\n",
    "\n",
    "#Lado derecho de las desigualdades dadas\n",
    "rhs_ineq= [-6.5, 8.5]\n",
    "\n",
    "#las igualdades\n",
    "\n",
    "lhs_eq= [[1, 1]]\n",
    "\n",
    "#Lado derecho de las igualdades\n",
    "rhs_eq= [10]                \n",
    "\n",
    "#Solucion\n",
    "\n",
    "optimo= linprog(c=obj, A_ub= lhs_ineq, b_ub= rhs_ineq,\n",
    "                A_eq= lhs_eq, b_eq= rhs_eq, method= \"simplex\")\n",
    "\n",
    "print(optimo)"
   ]
  }
 ],
 "metadata": {
  "interpreter": {
   "hash": "4dff06287e7aab5ee5bcf9f9742397dafb4766b935d2bf471fb216ff7f84489d"
  },
  "kernelspec": {
   "display_name": "Python 3.8.10 ('venv': venv)",
   "language": "python",
   "name": "python3"
  },
  "language_info": {
   "codemirror_mode": {
    "name": "ipython",
    "version": 3
   },
   "file_extension": ".py",
   "mimetype": "text/x-python",
   "name": "python",
   "nbconvert_exporter": "python",
   "pygments_lexer": "ipython3",
   "version": "3.8.10"
  },
  "orig_nbformat": 4
 },
 "nbformat": 4,
 "nbformat_minor": 2
}
